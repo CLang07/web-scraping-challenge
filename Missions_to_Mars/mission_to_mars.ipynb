{
 "cells": [
  {
   "cell_type": "code",
   "execution_count": 81,
   "metadata": {},
   "outputs": [],
   "source": [
    "# dependancies\n",
    "from splinter import Browser\n",
    "from bs4 import BeautifulSoup\n",
    "import pandas as pd\n",
    "import time"
   ]
  },
  {
   "cell_type": "code",
   "execution_count": 82,
   "metadata": {},
   "outputs": [],
   "source": [
    " # Initialize website\n",
    "executable_path = {'executable_path': 'chromedriver.exe'}\n",
    "browser = Browser('chrome', **executable_path, headless=False)"
   ]
  },
  {
   "cell_type": "code",
   "execution_count": 83,
   "metadata": {},
   "outputs": [],
   "source": [
    "url = \"https://mars.nasa.gov/news/\"\n",
    "browser.visit(url)\n",
    "# pause to let page load\n",
    "time.sleep(3)"
   ]
  },
  {
   "cell_type": "code",
   "execution_count": 84,
   "metadata": {},
   "outputs": [],
   "source": [
    "html = browser.html\n",
    "soup = BeautifulSoup(html, \"html.parser\")"
   ]
  },
  {
   "cell_type": "code",
   "execution_count": 85,
   "metadata": {},
   "outputs": [],
   "source": [
    "# Scrape website\n",
    "# Finds titles and paragraphs of each news article\n",
    "results = soup.find_all(\"div\", class_=\"list_text\")\n",
    "title_list=[]\n",
    "paragraph_list=[]\n",
    "for result in results:\n",
    "    title = result.find(\"div\", class_=\"content_title\")\n",
    "    paragraph = result.find(\"div\",class_=\"article_teaser_body\")\n",
    "    if title:\n",
    "        title_list.append(title.text)     \n",
    "    else:\n",
    "        title_list.append(\"\")\n",
    "    \n",
    "    if paragraph:\n",
    "        paragraph_list.append(paragraph.text)\n",
    "    else:\n",
    "        paragraph_list.append(\"\")\n",
    "        \n",
    "# Creates dictionary of most recent news title and paragraph\n",
    "news = {\n",
    "    \"titles\":title_list,\n",
    "    \"paragraphs\":paragraph_list\n",
    "}"
   ]
  },
  {
   "cell_type": "code",
   "execution_count": 87,
   "metadata": {},
   "outputs": [
    {
     "data": {
      "text/plain": [
       "\"NASA Readies Perseverance Mars Rover's Earthly Twin \""
      ]
     },
     "execution_count": 87,
     "metadata": {},
     "output_type": "execute_result"
    }
   ],
   "source": [
    "title_list[0]"
   ]
  },
  {
   "cell_type": "code",
   "execution_count": null,
   "metadata": {},
   "outputs": [],
   "source": []
  },
  {
   "cell_type": "code",
   "execution_count": 55,
   "metadata": {},
   "outputs": [],
   "source": [
    "# Initialize website and scrape\n",
    "executable_path = {'executable_path': 'chromedriver.exe'}\n",
    "browser = Browser('chrome', **executable_path, headless=False)\n",
    "url = \"https://www.jpl.nasa.gov/spaceimages/?search=&category=Mars\"\n",
    "browser.visit(url)\n",
    "html = browser.html\n",
    "soup = BeautifulSoup(html, \"html.parser\")"
   ]
  },
  {
   "cell_type": "code",
   "execution_count": 56,
   "metadata": {},
   "outputs": [
    {
     "data": {
      "text/plain": [
       "'https://www.jpl.nasa.gov/spaceimages/images/mediumsize/PIA18297_ip.jpg'"
      ]
     },
     "execution_count": 56,
     "metadata": {},
     "output_type": "execute_result"
    }
   ],
   "source": [
    "# find current Featured Mars Image\n",
    "featured_image_url = soup.find(\"footer\").find(\"a\")['data-fancybox-href']\n",
    "featured_image_url_full = f\"https://www.jpl.nasa.gov\"+featured_image_url\n",
    "featured_image_url_full "
   ]
  },
  {
   "cell_type": "code",
   "execution_count": 68,
   "metadata": {},
   "outputs": [
    {
     "data": {
      "text/plain": [
       "{'Value': {'Equatorial Diameter:': '6,792 km',\n",
       "  'Polar Diameter:': '6,752 km',\n",
       "  'Mass:': '6.39 × 10^23 kg (0.11 Earths)',\n",
       "  'Moons:': '2 (Phobos & Deimos)',\n",
       "  'Orbit Distance:': '227,943,824 km (1.38 AU)',\n",
       "  'Orbit Period:': '687 days (1.9 years)',\n",
       "  'Surface Temperature:': '-87 to -5 °C',\n",
       "  'First Record:': '2nd millennium BC',\n",
       "  'Recorded By:': 'Egyptian astronomers'}}"
      ]
     },
     "execution_count": 68,
     "metadata": {},
     "output_type": "execute_result"
    }
   ],
   "source": [
    "# scrapes mars facts tablen using pandas\n",
    "url = \"https://space-facts.com/mars/\"\n",
    "tables = pd.read_html(url)\n",
    "mars_df = tables[0]\n",
    "mars_df.columns=['Attribute','Value']\n",
    "mars_df = mars_df.set_index('Attribute')\n",
    "mars_dict = mars_df.to_dict()\n",
    "mars_dict"
   ]
  },
  {
   "cell_type": "code",
   "execution_count": 69,
   "metadata": {},
   "outputs": [
    {
     "data": {
      "text/html": [
       "<div>\n",
       "<style scoped>\n",
       "    .dataframe tbody tr th:only-of-type {\n",
       "        vertical-align: middle;\n",
       "    }\n",
       "\n",
       "    .dataframe tbody tr th {\n",
       "        vertical-align: top;\n",
       "    }\n",
       "\n",
       "    .dataframe thead th {\n",
       "        text-align: right;\n",
       "    }\n",
       "</style>\n",
       "<table border=\"1\" class=\"dataframe\">\n",
       "  <thead>\n",
       "    <tr style=\"text-align: right;\">\n",
       "      <th></th>\n",
       "      <th>Value</th>\n",
       "    </tr>\n",
       "    <tr>\n",
       "      <th>Attribute</th>\n",
       "      <th></th>\n",
       "    </tr>\n",
       "  </thead>\n",
       "  <tbody>\n",
       "    <tr>\n",
       "      <th>Equatorial Diameter:</th>\n",
       "      <td>6,792 km</td>\n",
       "    </tr>\n",
       "    <tr>\n",
       "      <th>Polar Diameter:</th>\n",
       "      <td>6,752 km</td>\n",
       "    </tr>\n",
       "    <tr>\n",
       "      <th>Mass:</th>\n",
       "      <td>6.39 × 10^23 kg (0.11 Earths)</td>\n",
       "    </tr>\n",
       "    <tr>\n",
       "      <th>Moons:</th>\n",
       "      <td>2 (Phobos &amp; Deimos)</td>\n",
       "    </tr>\n",
       "    <tr>\n",
       "      <th>Orbit Distance:</th>\n",
       "      <td>227,943,824 km (1.38 AU)</td>\n",
       "    </tr>\n",
       "    <tr>\n",
       "      <th>Orbit Period:</th>\n",
       "      <td>687 days (1.9 years)</td>\n",
       "    </tr>\n",
       "    <tr>\n",
       "      <th>Surface Temperature:</th>\n",
       "      <td>-87 to -5 °C</td>\n",
       "    </tr>\n",
       "    <tr>\n",
       "      <th>First Record:</th>\n",
       "      <td>2nd millennium BC</td>\n",
       "    </tr>\n",
       "    <tr>\n",
       "      <th>Recorded By:</th>\n",
       "      <td>Egyptian astronomers</td>\n",
       "    </tr>\n",
       "  </tbody>\n",
       "</table>\n",
       "</div>"
      ],
      "text/plain": [
       "                                              Value\n",
       "Attribute                                          \n",
       "Equatorial Diameter:                       6,792 km\n",
       "Polar Diameter:                            6,752 km\n",
       "Mass:                 6.39 × 10^23 kg (0.11 Earths)\n",
       "Moons:                          2 (Phobos & Deimos)\n",
       "Orbit Distance:            227,943,824 km (1.38 AU)\n",
       "Orbit Period:                  687 days (1.9 years)\n",
       "Surface Temperature:                   -87 to -5 °C\n",
       "First Record:                     2nd millennium BC\n",
       "Recorded By:                   Egyptian astronomers"
      ]
     },
     "execution_count": 69,
     "metadata": {},
     "output_type": "execute_result"
    }
   ],
   "source": [
    "mars_df"
   ]
  },
  {
   "cell_type": "code",
   "execution_count": 58,
   "metadata": {},
   "outputs": [],
   "source": [
    "# Initialize website and scrape\n",
    "executable_path = {'executable_path': 'chromedriver.exe'}\n",
    "browser = Browser('chrome', **executable_path, headless=False)\n",
    "url = \"https://astrogeology.usgs.gov/search/results?q=hemisphere+enhanced&k1=target&v1=Mars\"\n",
    "browser.visit(url)\n",
    "html = browser.html\n",
    "soup = BeautifulSoup(html, \"html.parser\")"
   ]
  },
  {
   "cell_type": "code",
   "execution_count": 59,
   "metadata": {},
   "outputs": [
    {
     "data": {
      "text/plain": [
       "['/search/map/Mars/Viking/cerberus_enhanced',\n",
       " '/search/map/Mars/Viking/schiaparelli_enhanced',\n",
       " '/search/map/Mars/Viking/syrtis_major_enhanced',\n",
       " '/search/map/Mars/Viking/valles_marineris_enhanced']"
      ]
     },
     "execution_count": 59,
     "metadata": {},
     "output_type": "execute_result"
    }
   ],
   "source": [
    "#finds links to all hemisphere webpages \n",
    "results = soup.find_all(\"div\",class_='item')\n",
    "link_list=[]\n",
    "for result in results:\n",
    "    link = result.find(\"a\")['href']\n",
    "    link_list.append(link)\n",
    "link_list\n"
   ]
  },
  {
   "cell_type": "code",
   "execution_count": 61,
   "metadata": {},
   "outputs": [],
   "source": [
    "# loops through each hemisphere page and pulls title and image_url\n",
    "url = 'https://astrogeology.usgs.gov'\n",
    "title_list=[]\n",
    "image_list=[]\n",
    "\n",
    "for link in link_list:\n",
    "    browser.visit(url+link)\n",
    "    html = browser.html\n",
    "    soup = BeautifulSoup(html, \"html.parser\")\n",
    "    image_url = soup.find('div', class_='downloads').a['href']\n",
    "    title = soup.find(\"h2\",class_='title').text\n",
    "    title_list.append(title)\n",
    "    image_list.append(image_url)\n",
    "    "
   ]
  },
  {
   "cell_type": "code",
   "execution_count": 62,
   "metadata": {},
   "outputs": [
    {
     "data": {
      "text/plain": [
       "[{'title': 'Cerberus Hemisphere Enhanced',\n",
       "  'img_url': 'https://astropedia.astrogeology.usgs.gov/download/Mars/Viking/cerberus_enhanced.tif/full.jpg'},\n",
       " {'title': 'Schiaparelli Hemisphere Enhanced',\n",
       "  'img_url': 'https://astropedia.astrogeology.usgs.gov/download/Mars/Viking/schiaparelli_enhanced.tif/full.jpg'},\n",
       " {'title': 'Syrtis Major Hemisphere Enhanced',\n",
       "  'img_url': 'https://astropedia.astrogeology.usgs.gov/download/Mars/Viking/syrtis_major_enhanced.tif/full.jpg'},\n",
       " {'title': 'Valles Marineris Hemisphere Enhanced',\n",
       "  'img_url': 'https://astropedia.astrogeology.usgs.gov/download/Mars/Viking/valles_marineris_enhanced.tif/full.jpg'}]"
      ]
     },
     "execution_count": 62,
     "metadata": {},
     "output_type": "execute_result"
    }
   ],
   "source": [
    "# creates dictionary in requested format\n",
    "mars_img_dict = [\n",
    "    {'title' : title_list[0],'img_url' : image_list[0]},\n",
    "    {'title' : title_list[1],'img_url' : image_list[1]},\n",
    "    {'title' : title_list[2],'img_url' : image_list[2]},\n",
    "    {'title' : title_list[3],'img_url' : image_list[3]},\n",
    "]\n",
    "mars_img_dict"
   ]
  },
  {
   "cell_type": "code",
   "execution_count": 63,
   "metadata": {},
   "outputs": [
    {
     "data": {
      "text/plain": [
       "{'news': {'titles': [\"NASA Readies Perseverance Mars Rover's Earthly Twin \",\n",
       "   \"NASA Engineers Checking InSight's Weather Sensors\",\n",
       "   \"Follow NASA's Perseverance Rover in Real Time on Its Way to Mars\",\n",
       "   'NASA Establishes Board to Initially Review Mars Sample Return Plans',\n",
       "   \"NASA's Ingenuity Mars Helicopter Recharges Its Batteries in Flight\",\n",
       "   \"Celebrate Mars Reconnaissance Orbiter's Views From Above\",\n",
       "   \"NASA's MAVEN Observes Martian Night Sky Pulsing in Ultraviolet Light\",\n",
       "   \"8 Martian Postcards to Celebrate Curiosity's Landing Anniversary\",\n",
       "   'NASA, ULA Launch Mars 2020 Perseverance Rover Mission to Red Planet',\n",
       "   \"NASA's Perseverance Rover Will Carry First Spacesuit Materials to Mars\",\n",
       "   \"A New Video Captures the Science of NASA's Perseverance Mars Rover\",\n",
       "   'NASA Invites Public to Share Excitement of Mars 2020 Perseverance Rover Launch',\n",
       "   \"NASA's Mars Perseverance Rover Passes Flight Readiness Review\",\n",
       "   'NASA to Broadcast Mars 2020 Perseverance Launch, Prelaunch Activities',\n",
       "   \"6 Things to Know About NASA's Ingenuity Mars Helicopter\",\n",
       "   'Join NASA for the Launch of the Mars 2020 Perseverance Rover',\n",
       "   \"NASA's Perseverance Rover Attached to Atlas V Rocket\",\n",
       "   '7 Things to Know About the Mars 2020 Perseverance Rover Mission',\n",
       "   \"NASA's InSight Flexes Its Arm While Its 'Mole' Hits Pause\",\n",
       "   \"Curiosity Mars Rover's Summer Road Trip Has Begun\",\n",
       "   \"How NASA's Mars Helicopter Will Reach the Red Planet's Surface\",\n",
       "   \"The Launch Is Approaching for NASA's Next Mars Rover, Perseverance\",\n",
       "   'NASA to Hold Mars 2020 Perseverance Rover Launch Briefing',\n",
       "   \"While Stargazing on Mars, NASA's Curiosity Rover Spots Earth and Venus\",\n",
       "   \"NASA's Mars Rover Drivers Need Your Help\",\n",
       "   \"Three New Views of Mars' Moon Phobos\",\n",
       "   \"The Extraordinary Sample-Gathering System of NASA's Perseverance Mars Rover\",\n",
       "   \"The Detective Aboard NASA's Perseverance Rover\",\n",
       "   'MAVEN Maps Electric Currents around Mars that are Fundamental to Atmospheric Loss',\n",
       "   \"Air Deliveries Bring NASA's Perseverance Mars Rover Closer to Launch\",\n",
       "   \"NASA Wins 4 Webbys, 4 People's Voice Awards\",\n",
       "   \"NASA's Perseverance Rover Goes Through Trials by Fire, Ice, Light and Sound\",\n",
       "   \"NASA's Perseverance Rover Mission Getting in Shape for Launch\",\n",
       "   'NASA Perseverance Mars Rover Scientists Train in the Nevada Desert',\n",
       "   \"NASA's Perseverance Rover Will Look at Mars Through These 'Eyes'\",\n",
       "   \"Meet the People Behind NASA's Perseverance Rover\",\n",
       "   \"Q&A with the Student Who Named Ingenuity, NASA's Mars Helicopter\",\n",
       "   \"Alabama High School Student Names NASA's Mars Helicopter\",\n",
       "   \"How NASA's Perseverance Mars Team Adjusted to Work in the Time of Coronavirus \",\n",
       "   \"NASA's Perseverance Mars Rover Gets Balanced\"],\n",
       "  'paragraphs': [\"Did you know NASA's next Mars rover has a nearly identical sibling on Earth for testing? Even better, it's about to roll for the first time through a replica Martian landscape.\",\n",
       "   'An electronics issue is suspected to be preventing the sensors from sharing their data about Mars weather with the spacecraft.',\n",
       "   \"A crisply rendered web application can show you where the agency's Mars 2020 mission is right now as it makes its way to the Red Planet for a Feb. 18, 2021, landing.\",\n",
       "   'The board will assist with analysis of current plans and goals for one of the most difficult missions humanity has ever undertaken.',\n",
       "   'Headed to the Red Planet with the Perseverance rover, the pioneering helicopter is powered up for the first time in interplanetary space as part of a systems check.',\n",
       "   'Marking its 15th anniversary since launch, one of the oldest spacecraft at the Red Planet has provided glimpses of dust devils, avalanches, and more.',\n",
       "   'Vast areas of the Martian night sky pulse in ultraviolet light, according to images from NASA’s MAVEN spacecraft. The results are being used to illuminate complex circulation patterns in the Martian atmosphere.',\n",
       "   'The NASA rover touched down eight years ago, on Aug. 5, 2012, and will soon be joined by a second rover, Perseverance.',\n",
       "   \"The agency's Mars 2020 mission is on its way. It will land at Jezero Crater in about seven months, on Feb. 18, 2021. \",\n",
       "   'In a Q&A, spacesuit designer Amy Ross explains how five samples, including a piece of helmet visor, will be tested aboard the rover, which is targeting a July 30 launch. ',\n",
       "   'With a targeted launch date of July 30, the next robotic scientist NASA is sending to the to the Red Planet has big ambitions.',\n",
       "   'There are lots of ways to participate in the historic event, which is targeted for July 30.',\n",
       "   \"\\u200bThe agency's Mars 2020 mission has one more big prelaunch review – the Launch Readiness Review, on July 27.\",\n",
       "   'Starting July 27, news activities will cover everything from mission engineering and science to returning samples from Mars to, of course, the launch itself.',\n",
       "   'The first helicopter attempting to fly on another planet is a marvel of engineering. Get up to speed with these key facts about its plans.',\n",
       "   'No matter where you live, choose from a menu of activities to join NASA as we \"Countdown to Mars\" and launch the Perseverance rover to the Red Planet.',\n",
       "   'Ready for its launch later in the month, the Mars-bound rover will touch terra firma no more.',\n",
       "   \"NASA's next rover to the Red Planet is slated to launch no earlier than July 30. These highlights will get you up to speed on the ambitious mission.\",\n",
       "   \"Now that the lander's robotic arm has helped the mole get underground, it will resume science activities that have been on hold.\",\n",
       "   'After more than a year in the \"clay-bearing unit,\" Curiosity is making a mile-long journey around some deep sand so that it can explore higher up Mount Sharp.',\n",
       "   'The small craft will seek to prove that powered, controlled flight is possible on another planet. But just getting it onto the surface of Mars will take a whole lot of ingenuity.',\n",
       "   \"The Red Planet's surface has been visited by eight NASA spacecraft. The ninth will be the first that includes a roundtrip ticket in its flight plan. \",\n",
       "   \"Learn more about the agency's next Red Planet mission during a live event on June 17.\",\n",
       "   \"This new portrait of the Red Planet's neighbors was taken during a time when there's more dust in the air on Mars.\",\n",
       "   'Using an online tool to label Martian terrain types, you can train an artificial intelligence algorithm that could improve the way engineers guide the Curiosity rover.',\n",
       "   \"Taken with the infrared camera aboard NASA's Odyssey orbiter, they reveal temperature variations on the small moon as it drifts into and out of Mars’ shadow.\",\n",
       "   'Two astronauts collected Moon rocks on Apollo 11. It will take three robotic systems working together to gather up the first Mars rock samples for return to Earth.',\n",
       "   'An instrument called SHERLOC will, with the help of its partner WATSON, hunt for signs of ancient life by detecting organic molecules and minerals.',\n",
       "   'Five years after NASA’s MAVEN spacecraft entered into orbit around Mars, data from the mission has led to the creation of a map of electric current systems in the Martian atmosphere.',\n",
       "   \"A NASA Wallops Flight Facility cargo plane transported more than two tons of equipment — including the rover's sample collection tubes — to Florida for this summer's liftoff.\",\n",
       "   'Winners include the JPL-managed \"Send Your Name to Mars\" campaign, NASA\\'s Global Climate Change website and Solar System Interactive.',\n",
       "   \"The agency's new Mars rover is put through a series of tests in vacuum chambers, acoustic chambers and more to get ready for the Red Planet.\",\n",
       "   'Stacking spacecraft components on top of each other is one of the final assembly steps before a mission launches to the Red Planet. ',\n",
       "   \"Team members searched for signs of ancient microscopic life there, just as NASA's latest rover will on the Red Planet next year.\",\n",
       "   'A pair of zoomable cameras will help scientists and rover drivers with high-resolution color images.',\n",
       "   \"These are the scientists and engineers who built NASA's next Mars rover and who will guide it to a safe landing in Jezero Crater. \",\n",
       "   'As a longtime fan of space exploration, Vaneeza Rupani appreciates the creativity and collaboration involved with trying to fly on another planet.',\n",
       "   \"Vaneeza Rupani's essay was chosen as the name for the small spacecraft, which will mark NASA's first attempt at powered flight on another planet.\",\n",
       "   'Like much of the rest of the world, the Mars rover team is pushing forward with its mission-critical work while putting the health and safety of their colleagues and community first.',\n",
       "   \"The mission team performed a crucial weight-balancing test on the rover in preparation for this summer's history-making launch to the Red Planet.\"]},\n",
       " 'featured_image_url': '/spaceimages/images/mediumsize/PIA18297_ip.jpg',\n",
       " 'mars_df':               Attribute                          Value\n",
       " 0  Equatorial Diameter:                       6,792 km\n",
       " 1       Polar Diameter:                       6,752 km\n",
       " 2                 Mass:  6.39 × 10^23 kg (0.11 Earths)\n",
       " 3                Moons:            2 (Phobos & Deimos)\n",
       " 4       Orbit Distance:       227,943,824 km (1.38 AU)\n",
       " 5         Orbit Period:           687 days (1.9 years)\n",
       " 6  Surface Temperature:                   -87 to -5 °C\n",
       " 7         First Record:              2nd millennium BC\n",
       " 8          Recorded By:           Egyptian astronomers,\n",
       " 'mars_img_dic': [{'title': 'Cerberus Hemisphere Enhanced',\n",
       "   'img_url': 'https://astropedia.astrogeology.usgs.gov/download/Mars/Viking/cerberus_enhanced.tif/full.jpg'},\n",
       "  {'title': 'Schiaparelli Hemisphere Enhanced',\n",
       "   'img_url': 'https://astropedia.astrogeology.usgs.gov/download/Mars/Viking/schiaparelli_enhanced.tif/full.jpg'},\n",
       "  {'title': 'Syrtis Major Hemisphere Enhanced',\n",
       "   'img_url': 'https://astropedia.astrogeology.usgs.gov/download/Mars/Viking/syrtis_major_enhanced.tif/full.jpg'},\n",
       "  {'title': 'Valles Marineris Hemisphere Enhanced',\n",
       "   'img_url': 'https://astropedia.astrogeology.usgs.gov/download/Mars/Viking/valles_marineris_enhanced.tif/full.jpg'}]}"
      ]
     },
     "execution_count": 63,
     "metadata": {},
     "output_type": "execute_result"
    }
   ],
   "source": [
    "# Combines scraped data into dictionary\n",
    "mars = {\n",
    "    'news':news,\n",
    "    'featured_image_url':featured_image_url,\n",
    "    'mars_df':mars_df,\n",
    "    'mars_img_dic':mars_img_dict\n",
    "}\n",
    "mars"
   ]
  },
  {
   "cell_type": "code",
   "execution_count": null,
   "metadata": {},
   "outputs": [],
   "source": []
  }
 ],
 "metadata": {
  "kernelspec": {
   "display_name": "Python 3",
   "language": "python",
   "name": "python3"
  },
  "language_info": {
   "codemirror_mode": {
    "name": "ipython",
    "version": 3
   },
   "file_extension": ".py",
   "mimetype": "text/x-python",
   "name": "python",
   "nbconvert_exporter": "python",
   "pygments_lexer": "ipython3",
   "version": "3.7.6"
  }
 },
 "nbformat": 4,
 "nbformat_minor": 4
}
